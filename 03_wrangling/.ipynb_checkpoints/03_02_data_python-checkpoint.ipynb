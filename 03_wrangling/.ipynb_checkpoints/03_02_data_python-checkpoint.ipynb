{
 "cells": [
  {
   "cell_type": "markdown",
   "metadata": {
    "slideshow": {
     "slide_type": "slide"
    }
   },
   "source": [
    "# Data in Python\n",
    "\n",
    "- data files in Python\n",
    "    - semi-structured files\n",
    "    - `pandas`\n",
    "    - Web Scraping & APIs\n",
    "- Working With Data"
   ]
  },
  {
   "cell_type": "markdown",
   "metadata": {
    "slideshow": {
     "slide_type": "slide"
    }
   },
   "source": [
    "## Setup"
   ]
  },
  {
   "cell_type": "code",
   "execution_count": 1,
   "metadata": {
    "slideshow": {
     "slide_type": "-"
    }
   },
   "outputs": [],
   "source": [
    "# Import standard libraries\n",
    "%matplotlib inline\n",
    "import pandas as pd\n",
    "import numpy as np"
   ]
  },
  {
   "cell_type": "markdown",
   "metadata": {
    "slideshow": {
     "slide_type": "subslide"
    }
   },
   "source": [
    "## Data 'Friendliness'\n",
    "\n",
    "The degree to which a data filetype easily lends itself to useful analysis."
   ]
  },
  {
   "cell_type": "markdown",
   "metadata": {
    "slideshow": {
     "slide_type": "subslide"
    }
   },
   "source": [
    "## 'Friendly' File Types:\n",
    "\n",
    "- csv\n",
    "- tsv\n",
    "- json\n",
    "- txt\n",
    "- xml"
   ]
  },
  {
   "cell_type": "markdown",
   "metadata": {
    "slideshow": {
     "slide_type": "subslide"
    }
   },
   "source": [
    "## 'Unfriendly' File Types:\n",
    "- pdf\n",
    "- docx\n",
    "- html\n",
    "- Anything made to look nice for humans"
   ]
  },
  {
   "cell_type": "markdown",
   "metadata": {
    "slideshow": {
     "slide_type": "slide"
    }
   },
   "source": [
    "### CSV Files\n",
    "\n",
    "- 'Comma Separated Value' files store data, separated by comma's. \n",
    "- Think of them like lists."
   ]
  },
  {
   "cell_type": "code",
   "execution_count": 2,
   "metadata": {
    "slideshow": {
     "slide_type": "fragment"
    }
   },
   "outputs": [
    {
     "name": "stdout",
     "output_type": "stream",
     "text": [
      "1, 2, 3, 4\r\n",
      "5, 6, 7, 8\r\n",
      "9, 10, 11, 12"
     ]
    }
   ],
   "source": [
    "# Note: through this notebook, I will be using '!' to run the shell command 'cat'\n",
    "#  to print out the content of example data files\n",
    "\n",
    "!cat data/dat.csv"
   ]
  },
  {
   "cell_type": "code",
   "execution_count": 3,
   "metadata": {
    "slideshow": {
     "slide_type": "subslide"
    }
   },
   "outputs": [],
   "source": [
    "# Python has a module devoted to working with csv's\n",
    "import csv"
   ]
  },
  {
   "cell_type": "code",
   "execution_count": 4,
   "metadata": {
    "slideshow": {
     "slide_type": "fragment"
    }
   },
   "outputs": [
    {
     "name": "stdout",
     "output_type": "stream",
     "text": [
      "1,  2,  3,  4\n",
      "5,  6,  7,  8\n",
      "9,  10,  11,  12\n"
     ]
    }
   ],
   "source": [
    "# We can read through our file with the csv module\n",
    "with open('data/dat.csv') as csvfile:\n",
    "    csv_reader = csv.reader(csvfile, delimiter=',')\n",
    "    for row in csv_reader:\n",
    "        print(', '.join(row))"
   ]
  },
  {
   "cell_type": "code",
   "execution_count": 5,
   "metadata": {
    "slideshow": {
     "slide_type": "subslide"
    }
   },
   "outputs": [],
   "source": [
    "# Pandas also has functions to directly load csv data\n",
    "pd.read_csv?"
   ]
  },
  {
   "cell_type": "code",
   "execution_count": 6,
   "metadata": {
    "slideshow": {
     "slide_type": "fragment"
    }
   },
   "outputs": [
    {
     "data": {
      "text/html": [
       "<div>\n",
       "<style scoped>\n",
       "    .dataframe tbody tr th:only-of-type {\n",
       "        vertical-align: middle;\n",
       "    }\n",
       "\n",
       "    .dataframe tbody tr th {\n",
       "        vertical-align: top;\n",
       "    }\n",
       "\n",
       "    .dataframe thead th {\n",
       "        text-align: right;\n",
       "    }\n",
       "</style>\n",
       "<table border=\"1\" class=\"dataframe\">\n",
       "  <thead>\n",
       "    <tr style=\"text-align: right;\">\n",
       "      <th></th>\n",
       "      <th>0</th>\n",
       "      <th>1</th>\n",
       "      <th>2</th>\n",
       "      <th>3</th>\n",
       "    </tr>\n",
       "  </thead>\n",
       "  <tbody>\n",
       "    <tr>\n",
       "      <th>0</th>\n",
       "      <td>1</td>\n",
       "      <td>2</td>\n",
       "      <td>3</td>\n",
       "      <td>4</td>\n",
       "    </tr>\n",
       "    <tr>\n",
       "      <th>1</th>\n",
       "      <td>5</td>\n",
       "      <td>6</td>\n",
       "      <td>7</td>\n",
       "      <td>8</td>\n",
       "    </tr>\n",
       "    <tr>\n",
       "      <th>2</th>\n",
       "      <td>9</td>\n",
       "      <td>10</td>\n",
       "      <td>11</td>\n",
       "      <td>12</td>\n",
       "    </tr>\n",
       "  </tbody>\n",
       "</table>\n",
       "</div>"
      ],
      "text/plain": [
       "   0   1   2   3\n",
       "0  1   2   3   4\n",
       "1  5   6   7   8\n",
       "2  9  10  11  12"
      ]
     },
     "execution_count": 6,
     "metadata": {},
     "output_type": "execute_result"
    }
   ],
   "source": [
    "# Let's read in our csv file\n",
    "pd.read_csv('data/dat.csv', header=None) "
   ]
  },
  {
   "cell_type": "markdown",
   "metadata": {
    "slideshow": {
     "slide_type": "slide"
    }
   },
   "source": [
    "## iclicker Question #1\n",
    "\n",
    "What does `pd` in `pd.read_csv()` specify?\n",
    "\n",
    "- A) it's the name of the function\n",
    "- B) that the `read_csv` method is from the pd package\n",
    "- **C) that the `read_csv` method is from the pandas package (we're using the shortcut `pd`)**\n",
    "- D) to read a csv file into python\n",
    "- E) I'm super lost"
   ]
  },
  {
   "cell_type": "markdown",
   "metadata": {
    "slideshow": {
     "slide_type": "slide"
    }
   },
   "source": [
    "### JSON\n",
    "\n",
    "- JavaScript Object Notation files can store hierachical key/value pairings. \n",
    "- Think of them like dictionaries."
   ]
  },
  {
   "cell_type": "code",
   "execution_count": 7,
   "metadata": {
    "slideshow": {
     "slide_type": "fragment"
    }
   },
   "outputs": [
    {
     "name": "stdout",
     "output_type": "stream",
     "text": [
      "{\r\n",
      "  \"firstName\": \"John\",\r\n",
      "  \"age\": 53\r\n",
      "}\r\n"
     ]
    }
   ],
   "source": [
    "!cat data/dat.json"
   ]
  },
  {
   "cell_type": "code",
   "execution_count": 8,
   "metadata": {
    "slideshow": {
     "slide_type": "subslide"
    }
   },
   "outputs": [
    {
     "name": "stdout",
     "output_type": "stream",
     "text": [
      "<class 'dict'> \n",
      " {'firstName': 'John', 'age': '53'}\n"
     ]
    }
   ],
   "source": [
    "# Think of json's as similar to dictionaries\n",
    "d = {'firstName': 'John', 'age': '53'}\n",
    "print(type(d),'\\n',d)"
   ]
  },
  {
   "cell_type": "code",
   "execution_count": 9,
   "metadata": {
    "slideshow": {
     "slide_type": "subslide"
    }
   },
   "outputs": [],
   "source": [
    "# Python also has a module for dealing with json\n",
    "import json"
   ]
  },
  {
   "cell_type": "code",
   "execution_count": 10,
   "metadata": {
    "slideshow": {
     "slide_type": "fragment"
    }
   },
   "outputs": [],
   "source": [
    "# Load a json file\n",
    "with open('data/dat.json') as dat_file:    \n",
    "    dat = json.load(dat_file)"
   ]
  },
  {
   "cell_type": "code",
   "execution_count": 11,
   "metadata": {
    "slideshow": {
     "slide_type": "fragment"
    }
   },
   "outputs": [
    {
     "name": "stdout",
     "output_type": "stream",
     "text": [
      "<class 'dict'>\n"
     ]
    }
   ],
   "source": [
    "# Check what data type this gets loaded as\n",
    "print(type(dat))"
   ]
  },
  {
   "cell_type": "code",
   "execution_count": 12,
   "metadata": {
    "slideshow": {
     "slide_type": "subslide"
    }
   },
   "outputs": [],
   "source": [
    "# Pandas also has support for reading in json files\n",
    "pd.read_json?"
   ]
  },
  {
   "cell_type": "code",
   "execution_count": 13,
   "metadata": {
    "slideshow": {
     "slide_type": "fragment"
    }
   },
   "outputs": [
    {
     "data": {
      "text/plain": [
       "first          Alan\n",
       "place    Manchester\n",
       "dtype: object"
      ]
     },
     "execution_count": 13,
     "metadata": {},
     "output_type": "execute_result"
    }
   ],
   "source": [
    "# You can read in json formatted strings with pandas\n",
    "pd.read_json('{ \"first\": \"Alan\", \"place\": \"Manchester\"}', typ = 'series')"
   ]
  },
  {
   "cell_type": "code",
   "execution_count": 14,
   "metadata": {
    "slideshow": {
     "slide_type": "fragment"
    }
   },
   "outputs": [
    {
     "data": {
      "text/plain": [
       "firstName    John\n",
       "age            53\n",
       "dtype: object"
      ]
     },
     "execution_count": 14,
     "metadata": {},
     "output_type": "execute_result"
    }
   ],
   "source": [
    "# Read in our json file with pandas\n",
    "pd.read_json('data/dat.json', typ = 'series')"
   ]
  },
  {
   "cell_type": "markdown",
   "metadata": {
    "slideshow": {
     "slide_type": "slide"
    }
   },
   "source": [
    "### XML\n",
    "\n",
    "- eXtensible Markup Language files store 'tagged' data. \n",
    "- Think of them like HTML."
   ]
  },
  {
   "cell_type": "code",
   "execution_count": 15,
   "metadata": {
    "scrolled": true,
    "slideshow": {
     "slide_type": "fragment"
    }
   },
   "outputs": [
    {
     "name": "stdout",
     "output_type": "stream",
     "text": [
      "<person>\r\n",
      "\t<who>Claude</who>\r\n",
      "\t<what>Info</who>\r\n",
      "\t<when>50s</when>\r\n",
      "</person>"
     ]
    }
   ],
   "source": [
    "!cat data/dat.xml"
   ]
  },
  {
   "cell_type": "code",
   "execution_count": 16,
   "metadata": {
    "slideshow": {
     "slide_type": "subslide"
    }
   },
   "outputs": [],
   "source": [
    "# We can read in the XML file with standard python I/O\n",
    "with open('data/dat.xml') as dat_file:\n",
    "    dat = dat_file.read()"
   ]
  },
  {
   "cell_type": "code",
   "execution_count": 18,
   "metadata": {
    "slideshow": {
     "slide_type": "fragment"
    }
   },
   "outputs": [
    {
     "data": {
      "text/plain": [
       "'<person>\\n\\t<who>Claude</who>\\n\\t<what>Info</who>\\n\\t<when>50s</when>\\n</person>'"
      ]
     },
     "execution_count": 18,
     "metadata": {},
     "output_type": "execute_result"
    }
   ],
   "source": [
    "# Check out the data\n",
    "dat"
   ]
  },
  {
   "cell_type": "code",
   "execution_count": 19,
   "metadata": {
    "slideshow": {
     "slide_type": "subslide"
    }
   },
   "outputs": [],
   "source": [
    "# Beautiful Soup has functions to 'clean up' XML into human-friendlier formats\n",
    "from bs4 import BeautifulSoup\n",
    "nice_dat = BeautifulSoup(dat, 'xml')"
   ]
  },
  {
   "cell_type": "code",
   "execution_count": 20,
   "metadata": {
    "slideshow": {
     "slide_type": "fragment"
    }
   },
   "outputs": [
    {
     "name": "stdout",
     "output_type": "stream",
     "text": [
      "<?xml version=\"1.0\" encoding=\"utf-8\"?>\n",
      "<person>\n",
      "<who>Claude</who>\n",
      "<what>Info</what>\n",
      "<when>50s</when>\n",
      "</person>\n"
     ]
    }
   ],
   "source": [
    "# Check out the parsed data\n",
    "print(nice_dat)"
   ]
  },
  {
   "cell_type": "markdown",
   "metadata": {
    "slideshow": {
     "slide_type": "slide"
    }
   },
   "source": [
    "<center>\n",
    "<img src=\"img/pandas.png\" alt=\"pandas\" width=\"600px\">\n",
    "</center>"
   ]
  },
  {
   "cell_type": "markdown",
   "metadata": {
    "slideshow": {
     "slide_type": "-"
    }
   },
   "source": [
    "Pandas is Python library for managing heterogenous data.\n",
    "\n",
    "At it's core, Pandas is used for the **DataFrame** object, which is:\n",
    "- a data structure for labeled rows and columns of data\n",
    "- associated methods and utilities for working with data.\n",
    "- each column contains a `pandas` **Series**"
   ]
  },
  {
   "cell_type": "markdown",
   "metadata": {
    "slideshow": {
     "slide_type": "slide"
    }
   },
   "source": [
    "## Loading Data"
   ]
  },
  {
   "cell_type": "code",
   "execution_count": 21,
   "metadata": {
    "slideshow": {
     "slide_type": "fragment"
    }
   },
   "outputs": [],
   "source": [
    "# Load a csv file of data\n",
    "df = pd.read_csv('data/my_data.csv')"
   ]
  },
  {
   "cell_type": "code",
   "execution_count": 22,
   "metadata": {
    "slideshow": {
     "slide_type": "fragment"
    }
   },
   "outputs": [
    {
     "data": {
      "text/html": [
       "<div>\n",
       "<style scoped>\n",
       "    .dataframe tbody tr th:only-of-type {\n",
       "        vertical-align: middle;\n",
       "    }\n",
       "\n",
       "    .dataframe tbody tr th {\n",
       "        vertical-align: top;\n",
       "    }\n",
       "\n",
       "    .dataframe thead th {\n",
       "        text-align: right;\n",
       "    }\n",
       "</style>\n",
       "<table border=\"1\" class=\"dataframe\">\n",
       "  <thead>\n",
       "    <tr style=\"text-align: right;\">\n",
       "      <th></th>\n",
       "      <th>id</th>\n",
       "      <th>first_name</th>\n",
       "      <th>last_name</th>\n",
       "      <th>age</th>\n",
       "      <th>score</th>\n",
       "      <th>value</th>\n",
       "    </tr>\n",
       "  </thead>\n",
       "  <tbody>\n",
       "    <tr>\n",
       "      <th>0</th>\n",
       "      <td>295</td>\n",
       "      <td>Andrea</td>\n",
       "      <td>Clark</td>\n",
       "      <td>46</td>\n",
       "      <td>-1</td>\n",
       "      <td>24547.87</td>\n",
       "    </tr>\n",
       "    <tr>\n",
       "      <th>1</th>\n",
       "      <td>620</td>\n",
       "      <td>Bill</td>\n",
       "      <td>Woods</td>\n",
       "      <td>46</td>\n",
       "      <td>492</td>\n",
       "      <td>46713.90</td>\n",
       "    </tr>\n",
       "    <tr>\n",
       "      <th>2</th>\n",
       "      <td>891</td>\n",
       "      <td>Alexander</td>\n",
       "      <td>Jacobson</td>\n",
       "      <td>48</td>\n",
       "      <td>489</td>\n",
       "      <td>32071.74</td>\n",
       "    </tr>\n",
       "    <tr>\n",
       "      <th>3</th>\n",
       "      <td>914</td>\n",
       "      <td>Derrick</td>\n",
       "      <td>Bradley</td>\n",
       "      <td>52</td>\n",
       "      <td>-1</td>\n",
       "      <td>30650.48</td>\n",
       "    </tr>\n",
       "    <tr>\n",
       "      <th>4</th>\n",
       "      <td>1736</td>\n",
       "      <td>Allison</td>\n",
       "      <td>Thomas</td>\n",
       "      <td>44</td>\n",
       "      <td>-1</td>\n",
       "      <td>9553.12</td>\n",
       "    </tr>\n",
       "  </tbody>\n",
       "</table>\n",
       "</div>"
      ],
      "text/plain": [
       "     id first_name last_name  age  score     value\n",
       "0   295     Andrea     Clark   46     -1  24547.87\n",
       "1   620       Bill     Woods   46    492  46713.90\n",
       "2   891  Alexander  Jacobson   48    489  32071.74\n",
       "3   914    Derrick   Bradley   52     -1  30650.48\n",
       "4  1736    Allison    Thomas   44     -1   9553.12"
      ]
     },
     "execution_count": 22,
     "metadata": {},
     "output_type": "execute_result"
    }
   ],
   "source": [
    "# Check out a few rows of the dataframe\n",
    "df.head()"
   ]
  },
  {
   "cell_type": "markdown",
   "metadata": {
    "slideshow": {
     "slide_type": "-"
    }
   },
   "source": [
    "Pandas DataFrame:\n",
    "- Index for each row\n",
    "- Column name for each column\n",
    "- Stores heterogenous types"
   ]
  },
  {
   "cell_type": "markdown",
   "metadata": {
    "slideshow": {
     "slide_type": "slide"
    }
   },
   "source": [
    "## Indexing & Slicing"
   ]
  },
  {
   "cell_type": "code",
   "execution_count": 23,
   "metadata": {
    "scrolled": true,
    "slideshow": {
     "slide_type": "fragment"
    }
   },
   "outputs": [
    {
     "data": {
      "text/plain": [
       "0         Clark\n",
       "1         Woods\n",
       "2      Jacobson\n",
       "3       Bradley\n",
       "4        Thomas\n",
       "         ...   \n",
       "195       Ortiz\n",
       "196    Chambers\n",
       "197       Pitts\n",
       "198     Jenkins\n",
       "199       Brown\n",
       "Name: last_name, Length: 200, dtype: object"
      ]
     },
     "execution_count": 23,
     "metadata": {},
     "output_type": "execute_result"
    }
   ],
   "source": [
    "# Indexing: select a column using its name\n",
    "df['last_name']"
   ]
  },
  {
   "cell_type": "code",
   "execution_count": 24,
   "metadata": {
    "slideshow": {
     "slide_type": "fragment"
    }
   },
   "outputs": [
    {
     "data": {
      "text/plain": [
       "pandas.core.series.Series"
      ]
     },
     "execution_count": 24,
     "metadata": {},
     "output_type": "execute_result"
    }
   ],
   "source": [
    "type(df['last_name'])"
   ]
  },
  {
   "cell_type": "code",
   "execution_count": 25,
   "metadata": {
    "slideshow": {
     "slide_type": "fragment"
    }
   },
   "outputs": [
    {
     "data": {
      "text/plain": [
       "500"
      ]
     },
     "execution_count": 25,
     "metadata": {},
     "output_type": "execute_result"
    }
   ],
   "source": [
    "# Indexing: select a row & column with 'loc'\n",
    "df.loc[10, 'score']"
   ]
  },
  {
   "cell_type": "markdown",
   "metadata": {
    "slideshow": {
     "slide_type": "slide"
    }
   },
   "source": [
    "## iclicker Question #2\n",
    "\n",
    "What would be the output of `df['age'] > 10`?\n",
    "\n",
    "- A) subset of `df` including only rows of individuals older than 10\n",
    "- **B) a Boolean with `True` for rows where age is greater than 10 and `False` otherwise**\n",
    "- C) `id`s of rows where observations are greater than 10 \n",
    "- D) an error\n",
    "- E) I'm super lost"
   ]
  },
  {
   "cell_type": "code",
   "execution_count": 28,
   "metadata": {
    "slideshow": {
     "slide_type": "-"
    }
   },
   "outputs": [
    {
     "data": {
      "text/html": [
       "<div>\n",
       "<style scoped>\n",
       "    .dataframe tbody tr th:only-of-type {\n",
       "        vertical-align: middle;\n",
       "    }\n",
       "\n",
       "    .dataframe tbody tr th {\n",
       "        vertical-align: top;\n",
       "    }\n",
       "\n",
       "    .dataframe thead th {\n",
       "        text-align: right;\n",
       "    }\n",
       "</style>\n",
       "<table border=\"1\" class=\"dataframe\">\n",
       "  <thead>\n",
       "    <tr style=\"text-align: right;\">\n",
       "      <th></th>\n",
       "      <th>id</th>\n",
       "      <th>first_name</th>\n",
       "      <th>last_name</th>\n",
       "      <th>age</th>\n",
       "      <th>score</th>\n",
       "      <th>value</th>\n",
       "    </tr>\n",
       "  </thead>\n",
       "  <tbody>\n",
       "    <tr>\n",
       "      <th>0</th>\n",
       "      <td>295</td>\n",
       "      <td>Andrea</td>\n",
       "      <td>Clark</td>\n",
       "      <td>46</td>\n",
       "      <td>-1</td>\n",
       "      <td>24547.87</td>\n",
       "    </tr>\n",
       "    <tr>\n",
       "      <th>1</th>\n",
       "      <td>620</td>\n",
       "      <td>Bill</td>\n",
       "      <td>Woods</td>\n",
       "      <td>46</td>\n",
       "      <td>492</td>\n",
       "      <td>46713.90</td>\n",
       "    </tr>\n",
       "    <tr>\n",
       "      <th>2</th>\n",
       "      <td>891</td>\n",
       "      <td>Alexander</td>\n",
       "      <td>Jacobson</td>\n",
       "      <td>48</td>\n",
       "      <td>489</td>\n",
       "      <td>32071.74</td>\n",
       "    </tr>\n",
       "    <tr>\n",
       "      <th>3</th>\n",
       "      <td>914</td>\n",
       "      <td>Derrick</td>\n",
       "      <td>Bradley</td>\n",
       "      <td>52</td>\n",
       "      <td>-1</td>\n",
       "      <td>30650.48</td>\n",
       "    </tr>\n",
       "    <tr>\n",
       "      <th>4</th>\n",
       "      <td>1736</td>\n",
       "      <td>Allison</td>\n",
       "      <td>Thomas</td>\n",
       "      <td>44</td>\n",
       "      <td>-1</td>\n",
       "      <td>9553.12</td>\n",
       "    </tr>\n",
       "    <tr>\n",
       "      <th>...</th>\n",
       "      <td>...</td>\n",
       "      <td>...</td>\n",
       "      <td>...</td>\n",
       "      <td>...</td>\n",
       "      <td>...</td>\n",
       "      <td>...</td>\n",
       "    </tr>\n",
       "    <tr>\n",
       "      <th>195</th>\n",
       "      <td>97441</td>\n",
       "      <td>Krista</td>\n",
       "      <td>Ortiz</td>\n",
       "      <td>34</td>\n",
       "      <td>-1</td>\n",
       "      <td>24074.79</td>\n",
       "    </tr>\n",
       "    <tr>\n",
       "      <th>196</th>\n",
       "      <td>97728</td>\n",
       "      <td>Anna</td>\n",
       "      <td>Chambers</td>\n",
       "      <td>37</td>\n",
       "      <td>598</td>\n",
       "      <td>0.00</td>\n",
       "    </tr>\n",
       "    <tr>\n",
       "      <th>197</th>\n",
       "      <td>98115</td>\n",
       "      <td>Jennifer</td>\n",
       "      <td>Pitts</td>\n",
       "      <td>29</td>\n",
       "      <td>606</td>\n",
       "      <td>6876.75</td>\n",
       "    </tr>\n",
       "    <tr>\n",
       "      <th>198</th>\n",
       "      <td>98284</td>\n",
       "      <td>Brittany</td>\n",
       "      <td>Jenkins</td>\n",
       "      <td>34</td>\n",
       "      <td>665</td>\n",
       "      <td>43525.88</td>\n",
       "    </tr>\n",
       "    <tr>\n",
       "      <th>199</th>\n",
       "      <td>98366</td>\n",
       "      <td>Katelyn</td>\n",
       "      <td>Brown</td>\n",
       "      <td>45</td>\n",
       "      <td>501</td>\n",
       "      <td>29668.38</td>\n",
       "    </tr>\n",
       "  </tbody>\n",
       "</table>\n",
       "<p>200 rows × 6 columns</p>\n",
       "</div>"
      ],
      "text/plain": [
       "        id first_name last_name  age  score     value\n",
       "0      295     Andrea     Clark   46     -1  24547.87\n",
       "1      620       Bill     Woods   46    492  46713.90\n",
       "2      891  Alexander  Jacobson   48    489  32071.74\n",
       "3      914    Derrick   Bradley   52     -1  30650.48\n",
       "4     1736    Allison    Thomas   44     -1   9553.12\n",
       "..     ...        ...       ...  ...    ...       ...\n",
       "195  97441     Krista     Ortiz   34     -1  24074.79\n",
       "196  97728       Anna  Chambers   37    598      0.00\n",
       "197  98115   Jennifer     Pitts   29    606   6876.75\n",
       "198  98284   Brittany   Jenkins   34    665  43525.88\n",
       "199  98366    Katelyn     Brown   45    501  29668.38\n",
       "\n",
       "[200 rows x 6 columns]"
      ]
     },
     "execution_count": 28,
     "metadata": {},
     "output_type": "execute_result"
    }
   ],
   "source": [
    "## YOUR CODE HERE\n",
    "df['age'] > 10\n",
    "\n",
    "# to get dataframe \n",
    "df[df['age'] > 10]"
   ]
  },
  {
   "cell_type": "markdown",
   "metadata": {
    "slideshow": {
     "slide_type": "slide"
    }
   },
   "source": [
    "## Checking out the DataFrame"
   ]
  },
  {
   "cell_type": "code",
   "execution_count": 29,
   "metadata": {
    "scrolled": false,
    "slideshow": {
     "slide_type": "fragment"
    }
   },
   "outputs": [
    {
     "data": {
      "text/plain": [
       "(200, 6)"
      ]
     },
     "execution_count": 29,
     "metadata": {},
     "output_type": "execute_result"
    }
   ],
   "source": [
    "# Check how large our dataframe is\n",
    "df.shape"
   ]
  },
  {
   "cell_type": "code",
   "execution_count": 30,
   "metadata": {
    "slideshow": {
     "slide_type": "fragment"
    }
   },
   "outputs": [
    {
     "data": {
      "text/plain": [
       "Index(['id', 'first_name', 'last_name', 'age', 'score', 'value'], dtype='object')"
      ]
     },
     "execution_count": 30,
     "metadata": {},
     "output_type": "execute_result"
    }
   ],
   "source": [
    "# Check what columns we have in our DataFrame\n",
    "df.columns"
   ]
  },
  {
   "cell_type": "code",
   "execution_count": 31,
   "metadata": {
    "scrolled": true,
    "slideshow": {
     "slide_type": "fragment"
    }
   },
   "outputs": [
    {
     "data": {
      "text/plain": [
       "id              int64\n",
       "first_name     object\n",
       "last_name      object\n",
       "age             int64\n",
       "score           int64\n",
       "value         float64\n",
       "dtype: object"
      ]
     },
     "execution_count": 31,
     "metadata": {},
     "output_type": "execute_result"
    }
   ],
   "source": [
    "# Check the datatypes of our variables\n",
    "df.dtypes"
   ]
  },
  {
   "cell_type": "code",
   "execution_count": 32,
   "metadata": {
    "slideshow": {
     "slide_type": "fragment"
    }
   },
   "outputs": [
    {
     "data": {
      "text/html": [
       "<div>\n",
       "<style scoped>\n",
       "    .dataframe tbody tr th:only-of-type {\n",
       "        vertical-align: middle;\n",
       "    }\n",
       "\n",
       "    .dataframe tbody tr th {\n",
       "        vertical-align: top;\n",
       "    }\n",
       "\n",
       "    .dataframe thead th {\n",
       "        text-align: right;\n",
       "    }\n",
       "</style>\n",
       "<table border=\"1\" class=\"dataframe\">\n",
       "  <thead>\n",
       "    <tr style=\"text-align: right;\">\n",
       "      <th></th>\n",
       "      <th>id</th>\n",
       "      <th>first_name</th>\n",
       "      <th>last_name</th>\n",
       "      <th>age</th>\n",
       "      <th>score</th>\n",
       "      <th>value</th>\n",
       "    </tr>\n",
       "    <tr>\n",
       "      <th>id</th>\n",
       "      <th></th>\n",
       "      <th></th>\n",
       "      <th></th>\n",
       "      <th></th>\n",
       "      <th></th>\n",
       "      <th></th>\n",
       "    </tr>\n",
       "  </thead>\n",
       "  <tbody>\n",
       "    <tr>\n",
       "      <th>295</th>\n",
       "      <td>295</td>\n",
       "      <td>Andrea</td>\n",
       "      <td>Clark</td>\n",
       "      <td>46</td>\n",
       "      <td>-1</td>\n",
       "      <td>24547.87</td>\n",
       "    </tr>\n",
       "    <tr>\n",
       "      <th>620</th>\n",
       "      <td>620</td>\n",
       "      <td>Bill</td>\n",
       "      <td>Woods</td>\n",
       "      <td>46</td>\n",
       "      <td>492</td>\n",
       "      <td>46713.90</td>\n",
       "    </tr>\n",
       "    <tr>\n",
       "      <th>891</th>\n",
       "      <td>891</td>\n",
       "      <td>Alexander</td>\n",
       "      <td>Jacobson</td>\n",
       "      <td>48</td>\n",
       "      <td>489</td>\n",
       "      <td>32071.74</td>\n",
       "    </tr>\n",
       "    <tr>\n",
       "      <th>914</th>\n",
       "      <td>914</td>\n",
       "      <td>Derrick</td>\n",
       "      <td>Bradley</td>\n",
       "      <td>52</td>\n",
       "      <td>-1</td>\n",
       "      <td>30650.48</td>\n",
       "    </tr>\n",
       "    <tr>\n",
       "      <th>1736</th>\n",
       "      <td>1736</td>\n",
       "      <td>Allison</td>\n",
       "      <td>Thomas</td>\n",
       "      <td>44</td>\n",
       "      <td>-1</td>\n",
       "      <td>9553.12</td>\n",
       "    </tr>\n",
       "  </tbody>\n",
       "</table>\n",
       "</div>"
      ],
      "text/plain": [
       "        id first_name last_name  age  score     value\n",
       "id                                                   \n",
       "295    295     Andrea     Clark   46     -1  24547.87\n",
       "620    620       Bill     Woods   46    492  46713.90\n",
       "891    891  Alexander  Jacobson   48    489  32071.74\n",
       "914    914    Derrick   Bradley   52     -1  30650.48\n",
       "1736  1736    Allison    Thomas   44     -1   9553.12"
      ]
     },
     "execution_count": 32,
     "metadata": {},
     "output_type": "execute_result"
    }
   ],
   "source": [
    "# Set the index to a string (non-numerical) and use it as index (row labels)\n",
    "df['id'] = df['id'].astype('str')\n",
    "df = df.set_index(df['id'])\n",
    "df.head() "
   ]
  },
  {
   "cell_type": "markdown",
   "metadata": {
    "slideshow": {
     "slide_type": "slide"
    }
   },
   "source": [
    "## Exploring the data\n",
    "\n",
    "- quantitative (numbers)\n",
    "- qualitative (categorical)\n",
    "- basic descriptive statistics"
   ]
  },
  {
   "cell_type": "code",
   "execution_count": 33,
   "metadata": {
    "slideshow": {
     "slide_type": "slide"
    }
   },
   "outputs": [
    {
     "data": {
      "text/plain": [
       "David       6\n",
       "Michael     5\n",
       "Eric        4\n",
       "James       4\n",
       "Charles     4\n",
       "Jason       3\n",
       "John        3\n",
       "Jonathan    3\n",
       "Sarah       3\n",
       "Jennifer    3\n",
       "Name: first_name, dtype: int64"
      ]
     },
     "execution_count": 33,
     "metadata": {},
     "output_type": "execute_result"
    }
   ],
   "source": [
    "# Checking categorical data\n",
    "df['first_name'].value_counts()[0:10]"
   ]
  },
  {
   "cell_type": "code",
   "execution_count": 34,
   "metadata": {
    "slideshow": {
     "slide_type": "fragment"
    }
   },
   "outputs": [
    {
     "data": {
      "text/plain": [
       "28730.336296296293"
      ]
     },
     "execution_count": 34,
     "metadata": {},
     "output_type": "execute_result"
    }
   ],
   "source": [
    "# Check a particular descriptive statistic\n",
    "df['value'].mean()"
   ]
  },
  {
   "cell_type": "code",
   "execution_count": 35,
   "metadata": {
    "slideshow": {
     "slide_type": "fragment"
    }
   },
   "outputs": [
    {
     "data": {
      "text/plain": [
       "count    200.000000\n",
       "mean     416.595000\n",
       "std      237.176674\n",
       "min       -1.000000\n",
       "25%      288.750000\n",
       "50%      463.500000\n",
       "75%      596.500000\n",
       "max      942.000000\n",
       "Name: score, dtype: float64"
      ]
     },
     "execution_count": 35,
     "metadata": {},
     "output_type": "execute_result"
    }
   ],
   "source": [
    "# Describe a particular column\n",
    "df['score'].describe()"
   ]
  },
  {
   "cell_type": "code",
   "execution_count": 36,
   "metadata": {
    "slideshow": {
     "slide_type": "fragment"
    }
   },
   "outputs": [
    {
     "data": {
      "text/html": [
       "<div>\n",
       "<style scoped>\n",
       "    .dataframe tbody tr th:only-of-type {\n",
       "        vertical-align: middle;\n",
       "    }\n",
       "\n",
       "    .dataframe tbody tr th {\n",
       "        vertical-align: top;\n",
       "    }\n",
       "\n",
       "    .dataframe thead th {\n",
       "        text-align: right;\n",
       "    }\n",
       "</style>\n",
       "<table border=\"1\" class=\"dataframe\">\n",
       "  <thead>\n",
       "    <tr style=\"text-align: right;\">\n",
       "      <th></th>\n",
       "      <th>age</th>\n",
       "      <th>score</th>\n",
       "      <th>value</th>\n",
       "    </tr>\n",
       "  </thead>\n",
       "  <tbody>\n",
       "    <tr>\n",
       "      <th>count</th>\n",
       "      <td>200.000000</td>\n",
       "      <td>200.000000</td>\n",
       "      <td>189.000000</td>\n",
       "    </tr>\n",
       "    <tr>\n",
       "      <th>mean</th>\n",
       "      <td>46.020000</td>\n",
       "      <td>416.595000</td>\n",
       "      <td>28730.336296</td>\n",
       "    </tr>\n",
       "    <tr>\n",
       "      <th>std</th>\n",
       "      <td>10.028582</td>\n",
       "      <td>237.176674</td>\n",
       "      <td>32493.945741</td>\n",
       "    </tr>\n",
       "    <tr>\n",
       "      <th>min</th>\n",
       "      <td>14.000000</td>\n",
       "      <td>-1.000000</td>\n",
       "      <td>0.000000</td>\n",
       "    </tr>\n",
       "    <tr>\n",
       "      <th>25%</th>\n",
       "      <td>39.000000</td>\n",
       "      <td>288.750000</td>\n",
       "      <td>9593.030000</td>\n",
       "    </tr>\n",
       "    <tr>\n",
       "      <th>50%</th>\n",
       "      <td>46.000000</td>\n",
       "      <td>463.500000</td>\n",
       "      <td>17976.510000</td>\n",
       "    </tr>\n",
       "    <tr>\n",
       "      <th>75%</th>\n",
       "      <td>53.000000</td>\n",
       "      <td>596.500000</td>\n",
       "      <td>33163.310000</td>\n",
       "    </tr>\n",
       "    <tr>\n",
       "      <th>max</th>\n",
       "      <td>69.000000</td>\n",
       "      <td>942.000000</td>\n",
       "      <td>204999.960000</td>\n",
       "    </tr>\n",
       "  </tbody>\n",
       "</table>\n",
       "</div>"
      ],
      "text/plain": [
       "              age       score          value\n",
       "count  200.000000  200.000000     189.000000\n",
       "mean    46.020000  416.595000   28730.336296\n",
       "std     10.028582  237.176674   32493.945741\n",
       "min     14.000000   -1.000000       0.000000\n",
       "25%     39.000000  288.750000    9593.030000\n",
       "50%     46.000000  463.500000   17976.510000\n",
       "75%     53.000000  596.500000   33163.310000\n",
       "max     69.000000  942.000000  204999.960000"
      ]
     },
     "execution_count": 36,
     "metadata": {},
     "output_type": "execute_result"
    }
   ],
   "source": [
    "# Get descriptive statistics of all numerical columns\n",
    "df.describe()"
   ]
  },
  {
   "cell_type": "markdown",
   "metadata": {
    "slideshow": {
     "slide_type": "fragment"
    }
   },
   "source": [
    "## iclicker Question #3\n",
    "\n",
    "What's the average (mean) age of the individuals in this dataset?\n",
    "\n",
    "- A) 14\n",
    "- **B) 46**\n",
    "- C) 28730\n",
    "- D) NA\n",
    "- E) I'm super lost/unsure"
   ]
  },
  {
   "cell_type": "code",
   "execution_count": 37,
   "metadata": {
    "scrolled": true,
    "slideshow": {
     "slide_type": "-"
    }
   },
   "outputs": [
    {
     "data": {
      "text/plain": [
       "46.02"
      ]
     },
     "execution_count": 37,
     "metadata": {},
     "output_type": "execute_result"
    }
   ],
   "source": [
    "## YOUR CODE HERE\n",
    "df['age'].mean()"
   ]
  },
  {
   "cell_type": "markdown",
   "metadata": {
    "slideshow": {
     "slide_type": "slide"
    }
   },
   "source": [
    "## Application Program Interface (APIs)\n",
    "\n",
    "- APIs are basically a way for software to talk to software \n",
    "    - They are an interface into an application / website / database designed for computers / software."
   ]
  },
  {
   "cell_type": "markdown",
   "metadata": {
    "slideshow": {
     "slide_type": "fragment"
    }
   },
   "source": [
    "Notes on APIs:\n",
    "- Follow API guidelines! \n",
    "- These guidelines typically specify the number / rate / size of requests"
   ]
  },
  {
   "cell_type": "markdown",
   "metadata": {
    "slideshow": {
     "slide_type": "slide"
    }
   },
   "source": [
    "## Github API\n",
    "\n",
    "You can access the github api with the following API. Just added specifiers for what you are looking for. \n",
    "\n",
    "https://api.github.com/\n",
    "\n",
    "For example, the following URL will search for the user 'ShanEllis'\n",
    "\n",
    "https://api.github.com/users/shanellis\n",
    "\n",
    "<center>\n",
    "<img src=\"img/github.png\" alt=\"sql\" height=\"100\" width=\"100\">\n",
    "</center>"
   ]
  },
  {
   "cell_type": "markdown",
   "metadata": {
    "slideshow": {
     "slide_type": "slide"
    }
   },
   "source": [
    "## Requesting Web Pages from Python"
   ]
  },
  {
   "cell_type": "code",
   "execution_count": 38,
   "metadata": {
    "slideshow": {
     "slide_type": "fragment"
    }
   },
   "outputs": [],
   "source": [
    "# The requests module allows you to send URL requests from python\n",
    "import requests  \n",
    "from bs4 import BeautifulSoup"
   ]
  },
  {
   "cell_type": "code",
   "execution_count": 39,
   "metadata": {
    "slideshow": {
     "slide_type": "fragment"
    }
   },
   "outputs": [],
   "source": [
    "# Request data from the Github API on a particular user\n",
    "page = requests.get('https://api.github.com/users/shanellis')  "
   ]
  },
  {
   "cell_type": "code",
   "execution_count": 40,
   "metadata": {
    "scrolled": false,
    "slideshow": {
     "slide_type": "fragment"
    }
   },
   "outputs": [
    {
     "data": {
      "text/plain": [
       "b'{\"login\":\"ShanEllis\",\"id\":6606571,\"node_id\":\"MDQ6VXNlcjY2MDY1NzE=\",\"avatar_url\":\"https://avatars3.githubusercontent.com/u/6606571?v=4\",\"gravatar_id\":\"\",\"url\":\"https://api.github.com/users/ShanEllis\",\"html_url\":\"https://github.com/ShanEllis\",\"followers_url\":\"https://api.github.com/users/ShanEllis/followers\",\"following_url\":\"https://api.github.com/users/ShanEllis/following{/other_user}\",\"gists_url\":\"https://api.github.com/users/ShanEllis/gists{/gist_id}\",\"starred_url\":\"https://api.github.com/users/ShanEllis/starred{/owner}{/repo}\",\"subscriptions_url\":\"https://api.github.com/users/ShanEllis/subscriptions\",\"organizations_url\":\"https://api.github.com/users/ShanEllis/orgs\",\"repos_url\":\"https://api.github.com/users/ShanEllis/repos\",\"events_url\":\"https://api.github.com/users/ShanEllis/events{/privacy}\",\"received_events_url\":\"https://api.github.com/users/ShanEllis/received_events\",\"type\":\"User\",\"site_admin\":false,\"name\":\"Shannon Ellis\",\"company\":null,\"blog\":\"shanellis.com\",\"location\":\"San Diego, CA\",\"email\":null,\"hireable\":null,\"bio\":null,\"twitter_username\":null,\"public_repos\":45,\"public_gists\":1,\"followers\":58,\"following\":0,\"created_at\":\"2014-02-06T16:09:58Z\",\"updated_at\":\"2020-10-25T19:21:42Z\"}'"
      ]
     },
     "execution_count": 40,
     "metadata": {},
     "output_type": "execute_result"
    }
   ],
   "source": [
    "# The content we get back is a messily organized json file\n",
    "page.content"
   ]
  },
  {
   "cell_type": "markdown",
   "metadata": {
    "slideshow": {
     "slide_type": "fragment"
    }
   },
   "source": [
    "## iclicker Question #6\n",
    "\n",
    "What type/format of output is this?\n",
    "\n",
    "- A) CSV\n",
    "- B) XML\n",
    "- **C) JSON**\n",
    "- D) API\n",
    "- E) I'm super lost"
   ]
  },
  {
   "cell_type": "code",
   "execution_count": 41,
   "metadata": {
    "slideshow": {
     "slide_type": "slide"
    }
   },
   "outputs": [],
   "source": [
    "# We can read in the json data with pandas\n",
    "git_data = pd.read_json(page.content, typ='series')"
   ]
  },
  {
   "cell_type": "code",
   "execution_count": 42,
   "metadata": {
    "slideshow": {
     "slide_type": "fragment"
    }
   },
   "outputs": [
    {
     "data": {
      "text/plain": [
       "login                                                          ShanEllis\n",
       "id                                                               6606571\n",
       "node_id                                             MDQ6VXNlcjY2MDY1NzE=\n",
       "avatar_url             https://avatars3.githubusercontent.com/u/66065...\n",
       "gravatar_id                                                             \n",
       "url                               https://api.github.com/users/ShanEllis\n",
       "html_url                                    https://github.com/ShanEllis\n",
       "followers_url           https://api.github.com/users/ShanEllis/followers\n",
       "following_url          https://api.github.com/users/ShanEllis/followi...\n",
       "gists_url              https://api.github.com/users/ShanEllis/gists{/...\n",
       "starred_url            https://api.github.com/users/ShanEllis/starred...\n",
       "subscriptions_url      https://api.github.com/users/ShanEllis/subscri...\n",
       "organizations_url            https://api.github.com/users/ShanEllis/orgs\n",
       "repos_url                   https://api.github.com/users/ShanEllis/repos\n",
       "events_url             https://api.github.com/users/ShanEllis/events{...\n",
       "received_events_url    https://api.github.com/users/ShanEllis/receive...\n",
       "type                                                                User\n",
       "site_admin                                                         False\n",
       "name                                                       Shannon Ellis\n",
       "company                                                             None\n",
       "blog                                                       shanellis.com\n",
       "location                                                   San Diego, CA\n",
       "email                                                               None\n",
       "hireable                                                            None\n",
       "bio                                                                 None\n",
       "twitter_username                                                    None\n",
       "public_repos                                                          45\n",
       "public_gists                                                           1\n",
       "followers                                                             58\n",
       "following                                                              0\n",
       "created_at                                          2014-02-06T16:09:58Z\n",
       "updated_at                                          2020-10-25T19:21:42Z\n",
       "dtype: object"
      ]
     },
     "execution_count": 42,
     "metadata": {},
     "output_type": "execute_result"
    }
   ],
   "source": [
    "# Check out the pandas series object full of data\n",
    "git_data  "
   ]
  },
  {
   "cell_type": "markdown",
   "metadata": {
    "slideshow": {
     "slide_type": "slide"
    }
   },
   "source": [
    "### Authorized Access - OAuth\n",
    "\n",
    "Open Authorization is a protocol to authorize access (of a user / application) to an API."
   ]
  },
  {
   "cell_type": "markdown",
   "metadata": {
    "slideshow": {
     "slide_type": "fragment"
    }
   },
   "source": [
    "OAuth provides a secure way to 'log-in' without using account names and passwords. \n",
    "\n",
    "It is effectively a set of keys, and passwords you can use to access APIs. "
   ]
  },
  {
   "cell_type": "markdown",
   "metadata": {
    "slideshow": {
     "slide_type": "slide"
    }
   },
   "source": [
    "## Web Scraping vs. APIs\n",
    "\n",
    "Web scraping and APIs are different approaches:"
   ]
  },
  {
   "cell_type": "markdown",
   "metadata": {
    "slideshow": {
     "slide_type": "fragment"
    }
   },
   "source": [
    "- APIs are an interface to interact with an application, designed for programmatic use\n",
    "    - They allow systematic, controlled access to (for example) and applications database\n",
    "    - They typically return structured (friendly) data "
   ]
  },
  {
   "cell_type": "markdown",
   "metadata": {
    "slideshow": {
     "slide_type": "fragment"
    }
   },
   "source": [
    "- Web scraping (typically) involves navigating through the internet, programmatically following an architecture built for humans\n",
    "    - This can be hard to systematize, being dependent on the idiosyncracies of a web page, at the time you request it\n",
    "    - This typically returns relatively unstructured data\n",
    "    - This entails much more wrangling of the data"
   ]
  },
  {
   "cell_type": "markdown",
   "metadata": {
    "slideshow": {
     "slide_type": "slide"
    }
   },
   "source": [
    "# Notes on Working with Data"
   ]
  },
  {
   "cell_type": "markdown",
   "metadata": {
    "slideshow": {
     "slide_type": "subslide"
    }
   },
   "source": [
    "### Data Science is Ad-Hoc\n",
    "\n",
    "- It is part of the job description to put things together that were not designed to go together.\n",
    "- We do not have universal solutions, but haphazard, idiosyncratic systems, for data collection, storage and analysis.\n",
    "- Data is everywhere. But relatively little of it was collected *as data*."
   ]
  },
  {
   "cell_type": "markdown",
   "metadata": {
    "slideshow": {
     "slide_type": "notes"
    }
   },
   "source": [
    "### Data Collection, Curation, and Storage are Difficult\n",
    "\n",
    "- It can be difficult to choose broadly useful standards\n",
    "- Take time to think about your data, and how you will load, store, organize and save it"
   ]
  },
  {
   "cell_type": "markdown",
   "metadata": {
    "slideshow": {
     "slide_type": "notes"
    }
   },
   "source": [
    "### Data is Inherently Noisy\n",
    "\n",
    "- We live in a messy, noisy, world, with messy, noisy, people, using messy, noisy instruments.\n",
    "- There is no perfect data. \n",
    "    - There is better / or worse data, given the context."
   ]
  },
  {
   "cell_type": "markdown",
   "metadata": {
    "slideshow": {
     "slide_type": "notes"
    }
   },
   "source": [
    "### Different Objectives\n",
    "\n",
    "- Humans and computers are different.\n",
    "- We interact with '*data*' in different ways.\n",
    "- This underlies many aspects of data wrangling\n",
    "    - The 'friendliness' of data types / files\n",
    "    - The difference between web scraping and APIs\n",
    "    - A disconnect between data in the real world, and data we want to use"
   ]
  },
  {
   "cell_type": "markdown",
   "metadata": {
    "slideshow": {
     "slide_type": "subslide"
    }
   },
   "source": [
    "## So... What to do?\n",
    "\n",
    "- Think about how your data are stored & its structure?\n",
    "- Look at your data before you anayze it\n",
    "    - are there missing values? \n",
    "    - outlier values? \n",
    "- Are your data trustworthy? \n",
    "    - source?\n",
    "    - how was it generated?"
   ]
  },
  {
   "cell_type": "markdown",
   "metadata": {
    "slideshow": {
     "slide_type": "slide"
    }
   },
   "source": [
    "## Specific Recommendations\n",
    "\n",
    "- Prioritize using well structured, common, open file types\n",
    "    - Take advantage of existing tools to deal with these files (numpy, pandas, etc.)"
   ]
  },
  {
   "cell_type": "markdown",
   "metadata": {
    "slideshow": {
     "slide_type": "subslide"
    }
   },
   "source": [
    "- Look into, and then follow, common conventions\n",
    "    - Minimize custom objects, workflows and data files \n",
    "- Look for APIs. Ask if they are available.\n",
    "    - Acknowledge that web scraping and/or wrangling unstructured data are complex / long tasks"
   ]
  },
  {
   "cell_type": "markdown",
   "metadata": {
    "slideshow": {
     "slide_type": "subslide"
    }
   },
   "source": [
    "- Think about data flow from the beginning. Organize your data pipeline, consider the 'wrangling' aspects throughout\n",
    "    - Set yourself up with well organized, labelled approach to your data\n",
    "    - Think about when and how you might want/need to save out intermediate results."
   ]
  }
 ],
 "metadata": {
  "celltoolbar": "Slideshow",
  "kernelspec": {
   "display_name": "Python 3",
   "language": "python",
   "name": "python3"
  },
  "language_info": {
   "codemirror_mode": {
    "name": "ipython",
    "version": 3
   },
   "file_extension": ".py",
   "mimetype": "text/x-python",
   "name": "python",
   "nbconvert_exporter": "python",
   "pygments_lexer": "ipython3",
   "version": "3.8.3"
  },
  "rise": {
   "scroll": true
  }
 },
 "nbformat": 4,
 "nbformat_minor": 2
}
